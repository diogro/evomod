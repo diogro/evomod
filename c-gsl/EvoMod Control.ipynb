{
 "metadata": {
  "name": "EvoMod Control"
 },
 "nbformat": 3,
 "nbformat_minor": 0,
 "worksheets": [
  {
   "cells": [
    {
     "cell_type": "code",
     "collapsed": false,
     "input": [
      "import numpy as np\n",
      "import os\n",
      "import errno"
     ],
     "language": "python",
     "metadata": {},
     "outputs": [],
     "prompt_number": 1
    },
    {
     "cell_type": "code",
     "collapsed": false,
     "input": [
      "try:\n",
      "    os.makedirs('./input/')\n",
      "except OSError, e:\n",
      "    if e.errno != errno.EEXIST:\n",
      "        raise\n"
     ],
     "language": "python",
     "metadata": {},
     "outputs": [],
     "prompt_number": 2
    },
    {
     "cell_type": "code",
     "collapsed": false,
     "input": [
      "n_e = 5000\n",
      "n_traits = 10\n",
      "n_loci = 500\n",
      "mu = 0.000500\n",
      "mu_B = 0.000100\n",
      "sigma = 0.020000\n",
      "v_e = 0.800000\n",
      "burn_out = 10\n",
      "selective = 10\n",
      "delta_theta = [0.000, 0.000, 0.000, 0.000, 0.000, 0.000, 0.000, 0.000, 0.000, 0.000]"
     ],
     "language": "python",
     "metadata": {},
     "outputs": [],
     "prompt_number": 3
    }
   ],
   "metadata": {}
  }
 ]
}