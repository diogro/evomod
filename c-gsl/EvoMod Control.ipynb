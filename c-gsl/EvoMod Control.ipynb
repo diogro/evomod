{
 "metadata": {
  "name": "EvoMod Control"
 },
 "nbformat": 3,
 "nbformat_minor": 0,
 "worksheets": [
  {
   "cells": [
    {
     "cell_type": "code",
     "collapsed": false,
     "input": [
      "import numpy as np\n",
      "import os\n",
      "import errno"
     ],
     "language": "python",
     "metadata": {},
     "outputs": [],
     "prompt_number": 66
    },
    {
     "cell_type": "code",
     "collapsed": false,
     "input": [
      "try:\n",
      "    os.makedirs('./input/')\n",
      "except OSError, e:\n",
      "    if e.errno != errno.EEXIST:\n",
      "        raise\n",
      "try:\n",
      "    os.makedirs('./output/')\n",
      "except OSError, e:\n",
      "    if e.errno != errno.EEXIST:\n",
      "        raise"
     ],
     "language": "python",
     "metadata": {},
     "outputs": [],
     "prompt_number": 67
    },
    {
     "cell_type": "code",
     "collapsed": false,
     "input": [
      "def set_parameters():\n",
      "    parameters = open(\"./input/\" + parameter_file_name, \"w\")\n",
      "    s = \"\\n\".join(map(str, [n_e, n_traits, n_loci, mu, mu_b, sigma, v_e, burn_in, selective])) + \"\\n\" + \"\".join([str(delta_theta[i]) + \"\\n\" for i in xrange(n_traits)])\n",
      "    parameters.write(s)\n",
      "    parameters.flush()\n",
      "\n",
      "    theta_file = open(\"./input/theta.csv\", \"w\")\n",
      "    omega_file = open(\"./input/omega.csv\", \"w\")\n",
      "\n",
      "    s = ''\n",
      "    for i in xrange(n_traits):\n",
      "         s += str(theta[i]) + \" \"\n",
      "    theta_file.write(s)\n",
      "    theta_file.flush()\n",
      "\n",
      "    s = ''\n",
      "    for i in xrange(n_traits):\n",
      "        for j in xrange(n_traits):\n",
      "            s += str(omega[i][j]) + \" \"\n",
      "        s += '\\n'\n",
      "    omega_file.write(s)\n",
      "    omega_file.flush()  \n",
      "    \n",
      "    \n",
      "def set_simulation_type():\n",
      "    s = ''\n",
      "    if (bool_sym_type == 0):\n",
      "        s += output_folder_name + \"\\n\" + parameter_file_name + \"\\n\" + str(bool_sym_type) + \"\\n\"\n",
      "    else:\n",
      "        s += output_folder_name + \"\\n\" + parameter_file_name + \"\\n\" + str(bool_sym_type) + \"\\n\" + input_pop_name + \"\\n\"\n",
      "    run_script.write(s)\n",
      "    run_script.flush() "
     ],
     "language": "python",
     "metadata": {},
     "outputs": [],
     "prompt_number": 68
    },
    {
     "cell_type": "markdown",
     "metadata": {},
     "source": [
      "The next cell creates all the necessary input parameters for an inicial run.\n"
     ]
    },
    {
     "cell_type": "code",
     "collapsed": false,
     "input": [
      "parameter_file_name = \"parameter.burn_in\"\n",
      "n_e = 5000\n",
      "n_traits = 10\n",
      "n_loci = 500\n",
      "mu = 0.000500\n",
      "mu_b = 0.000100\n",
      "sigma = 0.020000\n",
      "v_e = 0.800000\n",
      "burn_in = 10000\n",
      "selective = 10000\n",
      "delta_theta = [0.000, 0.000, 0.000, 0.000, 0.000, 0.000, 0.000, 0.000, 0.000, 0.000]\n",
      "\n",
      "omega = [[10.0,8.0,8.0,8.0,8.0,0.0,0.0,0.0,0.0,0.0],\n",
      "        [8.0,10.0,8.0,8.0,8.0,0.0,0.0,0.0,0.0,0.0],\n",
      "        [8.0,8.0,10.0,8.0,8.0,0.0,0.0,0.0,0.0,0.0],\n",
      "        [8.0,8.0,8.0,10.0,8.0,0.0,0.0,0.0,0.0,0.0],\n",
      "        [8.0,8.0,8.0,8.0,10.0,0.0,0.0,0.0,0.0,0.0],\n",
      "        [0.0,0.0,0.0,0.0,0.0,10.0,8.0,8.0,8.0,8.0],\n",
      "        [0.0,0.0,0.0,0.0,0.0,8.0,10.0,8.0,8.0,8.0],\n",
      "        [0.0,0.0,0.0,0.0,0.0,8.0,8.0,10.0,8.0,8.0],\n",
      "        [0.0,0.0,0.0,0.0,0.0,8.0,8.0,8.0,10.0,8.0],\n",
      "        [0.0,0.0,0.0,0.0,0.0,8.0,8.0,8.0,8.0,10.0]]\n",
      "\n",
      "theta = [0.000, 0.000, 0.000, 0.000, 0.000, 0.000, 0.000, 0.000, 0.000, 0.000]\n",
      "set_parameters()"
     ],
     "language": "python",
     "metadata": {},
     "outputs": [],
     "prompt_number": 69
    },
    {
     "cell_type": "markdown",
     "metadata": {},
     "source": [
      "Next, we need to pass the apropriate comand line promt options for the program.\n",
      "These will define the output folder, the parameter input file and the type of simulation.\n",
      "If the simulation is to pick up where another one left off, you should supply the apropriate \n",
      "file name with a full path."
     ]
    },
    {
     "cell_type": "code",
     "collapsed": false,
     "input": [
      "run_script = open(\"./input/run.script.burn_in\", \"w\")\n",
      "output_folder_name = \"burn_in\"\n",
      "# 0 for new pop, 1 to read from file\n",
      "bool_sym_type = 0\n",
      "# if 1:\n",
      "input_pop_name = \"./output/teste/pop.pop\"\n",
      "    \n",
      "set_simulation_type()"
     ],
     "language": "python",
     "metadata": {},
     "outputs": [],
     "prompt_number": 70
    },
    {
     "cell_type": "markdown",
     "metadata": {},
     "source": [
      "This cell calls the C simulation program with the above command line parameters."
     ]
    },
    {
     "cell_type": "heading",
     "level": 1,
     "metadata": {},
     "source": [
      "Divergent Directional Selection at multiple strenghts"
     ]
    },
    {
     "cell_type": "code",
     "collapsed": false,
     "input": [
      "burn_in = 0\n",
      "selective = 10000\n",
      "for sel_strengh in xrange(20, 210, 30):\n",
      "    delta_z = sel_strengh/float(selective)\n",
      "    run_script = open(\"./input/run.script.DivSel\" + str(delta_z) , \"w\")\n",
      "    output_folder_name = \"\"\n",
      "    parameter_file_name = \"parameter.DivSel\" + str(delta_z)\n",
      "    # 0 for new pop, 1 to read from file\n",
      "    bool_sym_type = 1\n",
      "    input_pop_name = \"./output/DivSel\"+ str(delta_z) + \"/pop.pop\" \n",
      "\n",
      "    for i in xrange(n_traits/2):\n",
      "        delta_theta[i] = delta_z\n",
      "    for i in xrange(n_traits/2, n_traits):\n",
      "        delta_theta[i] = -delta_z\n",
      "    \n",
      "    set_simulation_type()\n",
      "    set_parameters()\n"
     ],
     "language": "python",
     "metadata": {},
     "outputs": [],
     "prompt_number": 71
    }
   ],
   "metadata": {}
  }
 ]
}