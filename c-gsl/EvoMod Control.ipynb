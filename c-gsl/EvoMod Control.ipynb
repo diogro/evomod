{
 "metadata": {
  "name": "EvoMod Control"
 },
 "nbformat": 3,
 "nbformat_minor": 0,
 "worksheets": [
  {
   "cells": [
    {
     "cell_type": "code",
     "collapsed": false,
     "input": [
      "import numpy as np\n",
      "import os\n",
      "import errno"
     ],
     "language": "python",
     "metadata": {},
     "outputs": [],
     "prompt_number": 1
    },
    {
     "cell_type": "code",
     "collapsed": false,
     "input": [
      "try:\n",
      "    os.makedirs('./input/')\n",
      "except OSError, e:\n",
      "    if e.errno != errno.EEXIST:\n",
      "        raise\n",
      "try:\n",
      "    os.makedirs('./output/')\n",
      "except OSError, e:\n",
      "    if e.errno != errno.EEXIST:\n",
      "        raise"
     ],
     "language": "python",
     "metadata": {},
     "outputs": [],
     "prompt_number": 2
    },
    {
     "cell_type": "markdown",
     "metadata": {},
     "source": [
      "The next cell creates all the necessary input parameters for an inicial run.\n"
     ]
    },
    {
     "cell_type": "code",
     "collapsed": false,
     "input": [
      "n_e = 5000\n",
      "n_traits = 10\n",
      "n_loci = 500\n",
      "mu = 0.000500\n",
      "mu_b = 0.000100\n",
      "sigma = 0.020000\n",
      "v_e = 0.800000\n",
      "burn_in = 10\n",
      "selective = 10\n",
      "delta_theta = [0.000, 0.000, 0.000, 0.000, 0.000, 0.000, 0.000, 0.000, 0.000, 0.000]\n",
      "\n",
      "omega = [[10.0,8.0,8.0,8.0,8.0,0.0,0.0,0.0,0.0,0.0],\n",
      "        [8.0,10.0,8.0,8.0,8.0,0.0,0.0,0.0,0.0,0.0],\n",
      "        [8.0,8.0,10.0,8.0,8.0,0.0,0.0,0.0,0.0,0.0],\n",
      "        [8.0,8.0,8.0,10.0,8.0,0.0,0.0,0.0,0.0,0.0],\n",
      "        [8.0,8.0,8.0,8.0,10.0,0.0,0.0,0.0,0.0,0.0],\n",
      "        [0.0,0.0,0.0,0.0,0.0,10.0,8.0,8.0,8.0,8.0],\n",
      "        [0.0,0.0,0.0,0.0,0.0,8.0,10.0,8.0,8.0,8.0],\n",
      "        [0.0,0.0,0.0,0.0,0.0,8.0,8.0,10.0,8.0,8.0],\n",
      "        [0.0,0.0,0.0,0.0,0.0,8.0,8.0,8.0,10.0,8.0],\n",
      "        [0.0,0.0,0.0,0.0,0.0,8.0,8.0,8.0,8.0,10.0]]\n",
      "\n",
      "theta = [0.000, 0.000, 0.000, 0.000, 0.000, 0.000, 0.000, 0.000, 0.000, 0.000]\n",
      "\n",
      "parameters = open(\"./input/parameter.input.txt\", \"w\")\n",
      "s = str(n_e) + \"\\n\" + str(n_traits) + \"\\n\" + str(n_loci) + \"\\n\" + str(mu) + \"\\n\" + str(mu_b) + \"\\n\" + str(sigma) + \"\\n\" + str(v_e) + \"\\n\" + str(burn_in) + \"\\n\" + str(selective) + \"\\n\"\n",
      "for i in xrange(n_traits):\n",
      "     s += str(delta_theta[i]) + \"\\n\"\n",
      "parameters.write(s)\n",
      "parameters.flush()\n",
      "\n",
      "theta_file = open(\"./input/theta.csv\", \"w\")\n",
      "omega_file = open(\"./input/omega.csv\", \"w\")\n",
      "\n",
      "s = ''\n",
      "for i in xrange(n_traits):\n",
      "     s += str(theta[i]) + \" \"\n",
      "theta_file.write(s)\n",
      "theta_file.flush()\n",
      "\n",
      "s = ''\n",
      "for i in xrange(n_traits):\n",
      "    for j in xrange(n_traits):\n",
      "        s += str(omega[i][j]) + \" \"\n",
      "    s += '\\n'\n",
      "omega_file.write(s)\n",
      "omega_file.flush()  "
     ],
     "language": "python",
     "metadata": {},
     "outputs": [],
     "prompt_number": 19
    },
    {
     "cell_type": "markdown",
     "metadata": {},
     "source": [
      "Next, we need to pass the apropriate comand line promt options for the program.\n",
      "These will define the output folder, the parameter input file and the type of simulation.\n",
      "If the simulation is to pick up where another one left off, you should supply the apropriate \n",
      "file name with a full path."
     ]
    },
    {
     "cell_type": "code",
     "collapsed": false,
     "input": [
      "run_script = open(\"./input/run.script\", \"w\")\n",
      "output_folder_name = \"teste\"\n",
      "parameter_file_name = \"parameter.input.txt\"\n",
      "# 0 for new pop, 1 to read from file\n",
      "bool_sym_type = 0\n",
      "# if 1:\n",
      "input_pop_name = \"./output/teste/pop.pop\"\n",
      "\n",
      "s = ''\n",
      "if (bool_sym_type == 0):\n",
      "    s += output_folder_name + \"\\n\" + parameter_file_name + \"\\n\" + str(bool_sym_type) + \"\\n\"\n",
      "else:\n",
      "    s += output_folder_name + \"\\n\" + parameter_file_name + \"\\n\" + str(bool_sym_type) + \"\\n\" + input_pop_name + \"\\n\"\n",
      "run_script.write(s)\n",
      "run_script.flush()     "
     ],
     "language": "python",
     "metadata": {},
     "outputs": [],
     "prompt_number": 20
    },
    {
     "cell_type": "markdown",
     "metadata": {},
     "source": [
      "This cell calls the C simulation program with the above command line parameters."
     ]
    },
    {
     "cell_type": "code",
     "collapsed": false,
     "input": [
      "%%bash\n",
      "./evomod.exe < ./input/run.script"
     ],
     "language": "python",
     "metadata": {},
     "outputs": [
      {
       "output_type": "stream",
       "stream": "stdout",
       "text": [
        "\n",
        "Output folder name\n",
        "./output/teste\n",
        "Input parameters file name\n",
        "parameter.input.txt\n",
        "Type 0 for new population, 1 to read from file\n",
        "0\n",
        "1\n",
        "2\n",
        "3\n",
        "4\n",
        "5\n",
        "6\n",
        "7\n",
        "8\n",
        "9\n",
        "10\n",
        "11\n",
        "12\n",
        "13\n",
        "14\n",
        "15\n",
        "16\n",
        "17\n",
        "18\n",
        "19\n"
       ]
      }
     ],
     "prompt_number": 22
    },
    {
     "cell_type": "code",
     "collapsed": false,
     "input": [],
     "language": "python",
     "metadata": {},
     "outputs": [],
     "prompt_number": 21
    },
    {
     "cell_type": "code",
     "collapsed": false,
     "input": [],
     "language": "python",
     "metadata": {},
     "outputs": []
    }
   ],
   "metadata": {}
  }
 ]
}