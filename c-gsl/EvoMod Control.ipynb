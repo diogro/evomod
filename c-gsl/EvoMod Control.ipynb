{
 "metadata": {
  "name": "EvoMod Control"
 },
 "nbformat": 3,
 "nbformat_minor": 0,
 "worksheets": [
  {
   "cells": [
    {
     "cell_type": "code",
     "collapsed": false,
     "input": [
      "import numpy as np\n",
      "import os\n",
      "import errno"
     ],
     "language": "python",
     "metadata": {},
     "outputs": [],
     "prompt_number": 1
    },
    {
     "cell_type": "code",
     "collapsed": false,
     "input": [
      "try:\n",
      "    os.makedirs('./input/')\n",
      "except OSError, e:\n",
      "    if e.errno != errno.EEXIST:\n",
      "        raise\n",
      "try:\n",
      "    os.makedirs('./output/')\n",
      "except OSError, e:\n",
      "    if e.errno != errno.EEXIST:\n",
      "        raise"
     ],
     "language": "python",
     "metadata": {},
     "outputs": [],
     "prompt_number": 31
    },
    {
     "cell_type": "code",
     "collapsed": false,
     "input": [
      "n_e = 5000\n",
      "n_traits = 10\n",
      "n_loci = 500\n",
      "mu = 0.000500\n",
      "mu_b = 0.000100\n",
      "sigma = 0.020000\n",
      "v_e = 0.800000\n",
      "burn_in = 10\n",
      "selective = 10\n",
      "delta_theta = [0.000, 0.000, 0.000, 0.000, 0.000, 0.000, 0.000, 0.000, 0.000, 0.000]\n",
      "\n",
      "omega = [[10.0,8.0,8.0,8.0,8.0,0.0,0.0,0.0,0.0,0.0],\n",
      "        [8.0,10.0,8.0,8.0,8.0,0.0,0.0,0.0,0.0,0.0],\n",
      "        [8.0,8.0,10.0,8.0,8.0,0.0,0.0,0.0,0.0,0.0],\n",
      "        [8.0,8.0,8.0,10.0,8.0,0.0,0.0,0.0,0.0,0.0],\n",
      "        [8.0,8.0,8.0,8.0,10.0,0.0,0.0,0.0,0.0,0.0],\n",
      "        [0.0,0.0,0.0,0.0,0.0,10.0,8.0,8.0,8.0,8.0],\n",
      "        [0.0,0.0,0.0,0.0,0.0,8.0,10.0,8.0,8.0,8.0],\n",
      "        [0.0,0.0,0.0,0.0,0.0,8.0,8.0,10.0,8.0,8.0],\n",
      "        [0.0,0.0,0.0,0.0,0.0,8.0,8.0,8.0,10.0,8.0],\n",
      "        [0.0,0.0,0.0,0.0,0.0,8.0,8.0,8.0,8.0,10.0]]\n",
      "\n",
      "theta = [0.000, 0.000, 0.000, 0.000, 0.000, 0.000, 0.000, 0.000, 0.000, 0.000]"
     ],
     "language": "python",
     "metadata": {},
     "outputs": [],
     "prompt_number": 32
    },
    {
     "cell_type": "code",
     "collapsed": false,
     "input": [
      "parameters = open(\"./input/parameter.input.txt\", \"w\")\n",
      "s = str(n_e) + \"\\n\" + str(n_traits) + \"\\n\" + str(n_loci) + \"\\n\" + str(mu) + \"\\n\" + str(mu_b) + \"\\n\" + str(sigma) + \"\\n\" + str(v_e) + \"\\n\" + str(burn_in) + \"\\n\" + str(selective) + \"\\n\"\n",
      "for i in xrange(n_traits):\n",
      "     s += str(delta_theta[i]) + \"\\n\"\n",
      "parameters.write(s)\n",
      "parameters.flush()\n",
      "\n",
      "theta_file = open(\"./input/theta.csv\", \"w\")\n",
      "omega_file = open(\"./input/omega.csv\", \"w\")\n",
      "\n",
      "s = ''\n",
      "for i in xrange(n_traits):\n",
      "     s += str(theta[i]) + \" \"\n",
      "theta_file.write(s)\n",
      "theta_file.flush()\n",
      "\n",
      "s = ''\n",
      "for i in xrange(n_traits):\n",
      "    for j in xrange(n_traits):\n",
      "        s += str(omega[i][j]) + \" \"\n",
      "    s += '\\n'\n",
      "omega_file.write(s)\n",
      "omega_file.flush()  "
     ],
     "language": "python",
     "metadata": {},
     "outputs": []
    }
   ],
   "metadata": {}
  }
 ]
}