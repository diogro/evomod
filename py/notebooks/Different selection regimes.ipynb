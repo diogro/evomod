{
 "metadata": {
  "name": "",
  "signature": "sha256:b97631812caf515c2ba082858a3392274f1366ec68f2c65d6abbd112bdf4767b"
 },
 "nbformat": 3,
 "nbformat_minor": 0,
 "worksheets": [
  {
   "cells": [
    {
     "cell_type": "code",
     "collapsed": false,
     "input": [
      "%pylab inline\n",
      "\n",
      "import utils\n",
      "import numpy as np\n",
      "import pandas as pd"
     ],
     "language": "python",
     "metadata": {},
     "outputs": [
      {
       "output_type": "stream",
       "stream": "stdout",
       "text": [
        "Populating the interactive namespace from numpy and matplotlib\n"
       ]
      }
     ],
     "prompt_number": 90
    },
    {
     "cell_type": "code",
     "collapsed": false,
     "input": [
      "inds = utils.read_pop('../c-gsl/output/pop.pop', 5000)\n",
      "fits = utils.calc_fitness(inds, 10*np.eye(10), np.zeros(10).T, 0.8)"
     ],
     "language": "python",
     "metadata": {},
     "outputs": [],
     "prompt_number": 4
    },
    {
     "cell_type": "code",
     "collapsed": false,
     "input": [
      "vfits = np.array([np.var(utils.calc_fitness(inds, i*np.eye(10), np.zeros(10).T, 0.8)) for i in range(1,100)])"
     ],
     "language": "python",
     "metadata": {},
     "outputs": [],
     "prompt_number": 19
    },
    {
     "cell_type": "code",
     "collapsed": false,
     "input": [
      "plot(vfits)\n",
      "plt.vlines(10, 0, 0.03)"
     ],
     "language": "python",
     "metadata": {},
     "outputs": [
      {
       "metadata": {},
       "output_type": "pyout",
       "prompt_number": 29,
       "text": [
        "<matplotlib.collections.LineCollection at 0x16857050>"
       ]
      },
      {
       "metadata": {},
       "output_type": "display_data",
       "png": "[encoded data removed]",
       "text": [
        "<matplotlib.figure.Figure at 0x16857190>"
       ]
      }
     ],
     "prompt_number": 29
    },
    {
     "cell_type": "code",
     "collapsed": false,
     "input": [
      "vfits = []"
     ],
     "language": "python",
     "metadata": {},
     "outputs": [],
     "prompt_number": 39
    },
    {
     "cell_type": "code",
     "collapsed": false,
     "input": [
      "for i in range(10):\n",
      "    vfits +=  [[utils.calc_fitness(inds, j*np.eye(10), np.zeros(10).T, 0.8) for j in range(1,100)]] "
     ],
     "language": "python",
     "metadata": {},
     "outputs": [],
     "prompt_number": 41
    },
    {
     "cell_type": "code",
     "collapsed": false,
     "input": [
      "utils.calc_fitness(inds, 1*np.eye(10), np.zeros(10).T, 0.8).shape"
     ],
     "language": "python",
     "metadata": {},
     "outputs": [
      {
       "metadata": {},
       "output_type": "pyout",
       "prompt_number": 42,
       "text": [
        "(5000,)"
       ]
      }
     ],
     "prompt_number": 42
    },
    {
     "cell_type": "code",
     "collapsed": false,
     "input": [
      "fs = np.random.choice(5000, 5000, p=vfits[0][0]/np.sum(vfits[0][0]), replace=True)"
     ],
     "language": "python",
     "metadata": {},
     "outputs": [],
     "prompt_number": 48
    },
    {
     "cell_type": "code",
     "collapsed": false,
     "input": [
      "parents = []\n",
      "for i in range(len(vfits)):\n",
      "    parents += [map(lambda x: set(np.random.choice(5000, 10000, p=x/np.sum(x), replace=True)), vfits[i])]"
     ],
     "language": "python",
     "metadata": {},
     "outputs": [],
     "prompt_number": 86
    },
    {
     "cell_type": "code",
     "collapsed": false,
     "input": [
      "for ps in parents:\n",
      "    plot([len(p) for p in ps])\n",
      "plt.vlines(10, 0, 5000)"
     ],
     "language": "python",
     "metadata": {},
     "outputs": [
      {
       "metadata": {},
       "output_type": "pyout",
       "prompt_number": 88,
       "text": [
        "<matplotlib.collections.LineCollection at 0xd900c50>"
       ]
      },
      {
       "metadata": {},
       "output_type": "display_data",
       "png": "[encoded data removed]",
       "text": [
        "<matplotlib.figure.Figure at 0xd900d50>"
       ]
      }
     ],
     "prompt_number": 88
    },
    {
     "cell_type": "code",
     "collapsed": false,
     "input": [
      "map(len, [p for p in parents])"
     ],
     "language": "python",
     "metadata": {},
     "outputs": [
      {
       "metadata": {},
       "output_type": "pyout",
       "prompt_number": 94,
       "text": [
        "[99, 99, 99, 99, 99, 99, 99, 99, 99, 99]"
       ]
      }
     ],
     "prompt_number": 94
    },
    {
     "cell_type": "code",
     "collapsed": false,
     "input": [
      "len(set(np.random.choice(10000, 5000, replace=True)))"
     ],
     "language": "python",
     "metadata": {},
     "outputs": [
      {
       "metadata": {},
       "output_type": "pyout",
       "prompt_number": 84,
       "text": [
        "3984"
       ]
      }
     ],
     "prompt_number": 84
    },
    {
     "cell_type": "code",
     "collapsed": false,
     "input": [
      "ps = np.array(map(lambda p: map(len, p), parents))"
     ],
     "language": "python",
     "metadata": {},
     "outputs": [],
     "prompt_number": 104
    },
    {
     "cell_type": "code",
     "collapsed": false,
     "input": [
      "df = pd.DataFrame(ps)"
     ],
     "language": "python",
     "metadata": {},
     "outputs": [],
     "prompt_number": 108
    },
    {
     "cell_type": "code",
     "collapsed": false,
     "input": [
      "df"
     ],
     "language": "python",
     "metadata": {},
     "outputs": [
      {
       "html": [
        "<pre>\n",
        "&lt;class 'pandas.core.frame.DataFrame'&gt;\n",
        "Int64Index: 10 entries, 0 to 9\n",
        "Data columns (total 99 columns):\n",
        "0     10  non-null values\n",
        "1     10  non-null values\n",
        "2     10  non-null values\n",
        "3     10  non-null values\n",
        "4     10  non-null values\n",
        "5     10  non-null values\n",
        "6     10  non-null values\n",
        "7     10  non-null values\n",
        "8     10  non-null values\n",
        "9     10  non-null values\n",
        "10    10  non-null values\n",
        "11    10  non-null values\n",
        "12    10  non-null values\n",
        "13    10  non-null values\n",
        "14    10  non-null values\n",
        "15    10  non-null values\n",
        "16    10  non-null values\n",
        "17    10  non-null values\n",
        "18    10  non-null values\n",
        "19    10  non-null values\n",
        "20    10  non-null values\n",
        "21    10  non-null values\n",
        "22    10  non-null values\n",
        "23    10  non-null values\n",
        "24    10  non-null values\n",
        "25    10  non-null values\n",
        "26    10  non-null values\n",
        "27    10  non-null values\n",
        "28    10  non-null values\n",
        "29    10  non-null values\n",
        "30    10  non-null values\n",
        "31    10  non-null values\n",
        "32    10  non-null values\n",
        "33    10  non-null values\n",
        "34    10  non-null values\n",
        "35    10  non-null values\n",
        "36    10  non-null values\n",
        "37    10  non-null values\n",
        "38    10  non-null values\n",
        "39    10  non-null values\n",
        "40    10  non-null values\n",
        "41    10  non-null values\n",
        "42    10  non-null values\n",
        "43    10  non-null values\n",
        "44    10  non-null values\n",
        "45    10  non-null values\n",
        "46    10  non-null values\n",
        "47    10  non-null values\n",
        "48    10  non-null values\n",
        "49    10  non-null values\n",
        "50    10  non-null values\n",
        "51    10  non-null values\n",
        "52    10  non-null values\n",
        "53    10  non-null values\n",
        "54    10  non-null values\n",
        "55    10  non-null values\n",
        "56    10  non-null values\n",
        "57    10  non-null values\n",
        "58    10  non-null values\n",
        "59    10  non-null values\n",
        "60    10  non-null values\n",
        "61    10  non-null values\n",
        "62    10  non-null values\n",
        "63    10  non-null values\n",
        "64    10  non-null values\n",
        "65    10  non-null values\n",
        "66    10  non-null values\n",
        "67    10  non-null values\n",
        "68    10  non-null values\n",
        "69    10  non-null values\n",
        "70    10  non-null values\n",
        "71    10  non-null values\n",
        "72    10  non-null values\n",
        "73    10  non-null values\n",
        "74    10  non-null values\n",
        "75    10  non-null values\n",
        "76    10  non-null values\n",
        "77    10  non-null values\n",
        "78    10  non-null values\n",
        "79    10  non-null values\n",
        "80    10  non-null values\n",
        "81    10  non-null values\n",
        "82    10  non-null values\n",
        "83    10  non-null values\n",
        "84    10  non-null values\n",
        "85    10  non-null values\n",
        "86    10  non-null values\n",
        "87    10  non-null values\n",
        "88    10  non-null values\n",
        "89    10  non-null values\n",
        "90    10  non-null values\n",
        "91    10  non-null values\n",
        "92    10  non-null values\n",
        "93    10  non-null values\n",
        "94    10  non-null values\n",
        "95    10  non-null values\n",
        "96    10  non-null values\n",
        "97    10  non-null values\n",
        "98    10  non-null values\n",
        "dtypes: int64(99)\n",
        "</pre>"
       ],
       "metadata": {},
       "output_type": "pyout",
       "prompt_number": 109,
       "text": [
        "<class 'pandas.core.frame.DataFrame'>\n",
        "Int64Index: 10 entries, 0 to 9\n",
        "Data columns (total 99 columns):\n",
        "0     10  non-null values\n",
        "1     10  non-null values\n",
        "2     10  non-null values\n",
        "3     10  non-null values\n",
        "4     10  non-null values\n",
        "5     10  non-null values\n",
        "6     10  non-null values\n",
        "7     10  non-null values\n",
        "8     10  non-null values\n",
        "9     10  non-null values\n",
        "10    10  non-null values\n",
        "11    10  non-null values\n",
        "12    10  non-null values\n",
        "13    10  non-null values\n",
        "14    10  non-null values\n",
        "15    10  non-null values\n",
        "16    10  non-null values\n",
        "17    10  non-null values\n",
        "18    10  non-null values\n",
        "19    10  non-null values\n",
        "20    10  non-null values\n",
        "21    10  non-null values\n",
        "22    10  non-null values\n",
        "23    10  non-null values\n",
        "24    10  non-null values\n",
        "25    10  non-null values\n",
        "26    10  non-null values\n",
        "27    10  non-null values\n",
        "28    10  non-null values\n",
        "29    10  non-null values\n",
        "30    10  non-null values\n",
        "31    10  non-null values\n",
        "32    10  non-null values\n",
        "33    10  non-null values\n",
        "34    10  non-null values\n",
        "35    10  non-null values\n",
        "36    10  non-null values\n",
        "37    10  non-null values\n",
        "38    10  non-null values\n",
        "39    10  non-null values\n",
        "40    10  non-null values\n",
        "41    10  non-null values\n",
        "42    10  non-null values\n",
        "43    10  non-null values\n",
        "44    10  non-null values\n",
        "45    10  non-null values\n",
        "46    10  non-null values\n",
        "47    10  non-null values\n",
        "48    10  non-null values\n",
        "49    10  non-null values\n",
        "50    10  non-null values\n",
        "51    10  non-null values\n",
        "52    10  non-null values\n",
        "53    10  non-null values\n",
        "54    10  non-null values\n",
        "55    10  non-null values\n",
        "56    10  non-null values\n",
        "57    10  non-null values\n",
        "58    10  non-null values\n",
        "59    10  non-null values\n",
        "60    10  non-null values\n",
        "61    10  non-null values\n",
        "62    10  non-null values\n",
        "63    10  non-null values\n",
        "64    10  non-null values\n",
        "65    10  non-null values\n",
        "66    10  non-null values\n",
        "67    10  non-null values\n",
        "68    10  non-null values\n",
        "69    10  non-null values\n",
        "70    10  non-null values\n",
        "71    10  non-null values\n",
        "72    10  non-null values\n",
        "73    10  non-null values\n",
        "74    10  non-null values\n",
        "75    10  non-null values\n",
        "76    10  non-null values\n",
        "77    10  non-null values\n",
        "78    10  non-null values\n",
        "79    10  non-null values\n",
        "80    10  non-null values\n",
        "81    10  non-null values\n",
        "82    10  non-null values\n",
        "83    10  non-null values\n",
        "84    10  non-null values\n",
        "85    10  non-null values\n",
        "86    10  non-null values\n",
        "87    10  non-null values\n",
        "88    10  non-null values\n",
        "89    10  non-null values\n",
        "90    10  non-null values\n",
        "91    10  non-null values\n",
        "92    10  non-null values\n",
        "93    10  non-null values\n",
        "94    10  non-null values\n",
        "95    10  non-null values\n",
        "96    10  non-null values\n",
        "97    10  non-null values\n",
        "98    10  non-null values\n",
        "dtypes: int64(99)"
       ]
      }
     ],
     "prompt_number": 109
    },
    {
     "cell_type": "code",
     "collapsed": false,
     "input": [],
     "language": "python",
     "metadata": {},
     "outputs": []
    }
   ],
   "metadata": {}
  }
 ]
}