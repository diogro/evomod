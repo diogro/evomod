{
 "metadata": {
  "name": "",
  "signature": "sha256:d4ccf6cace7da1db419834a5c5d60c203020c52365a38e4205c9e77a6e6afbed"
 },
 "nbformat": 3,
 "nbformat_minor": 0,
 "worksheets": [
  {
   "cells": [
    {
     "cell_type": "code",
     "collapsed": false,
     "input": [
      "%loadpy ../utils.py"
     ],
     "language": "python",
     "metadata": {},
     "outputs": [],
     "prompt_number": 1
    },
    {
     "cell_type": "code",
     "collapsed": false,
     "input": [
      "import pandas as pd\n",
      "import numpy as np\n",
      "\n",
      "def read_pop(filename, nind, gen_size=1000, phen_size=10):\n",
      "    ind = []\n",
      "    raw = pd.read_csv(filename, header=None)\n",
      "\n",
      "    for i in range(nind):\n",
      "        ind_line = i*(gen_size + phen_size*gen_size)\n",
      "        y = np.array(raw[ind_line:  ind_line + gen_size])\n",
      "        b = np.array(raw[ind_line + gen_size:  ind_line + gen_size +phen_size*gen_size]).reshape((phen_size,gen_size))\n",
      "        ind += [(y, b)]\n",
      "\n",
      "    return ind\n",
      "\n",
      "def calc_fitness(inds, omega, theta, amb):\n",
      "\n",
      "    fit_inds = np.zeros(len(inds))\n",
      "\n",
      "    for i, ind in enumerate(inds):\n",
      "        z = np.dot(ind[1], ind[0]) + np.random.normal(0, amb, ind[1].shape[0]).reshape((10,1))\n",
      "        delta_s = z - theta.reshape((10,1))\n",
      "        fit_inds[i] = np.exp(-np.dot(delta_s.T, np.linalg.solve(omega, delta_s)))\n",
      "\n",
      "    return fit_inds\n",
      "\n",
      "def calc_gamma(inds, omega, theta, amb):\n",
      "    phen_inds = np.zeros((len(inds), 10))\n",
      "    fit_inds = np.zeros(len(inds))\n",
      "\n",
      "    for i, ind in enumerate(inds):\n",
      "        z = np.dot(ind[1], ind[0]) + np.random.normal(0, amb, ind[1].shape[0]).reshape((10,1))\n",
      "        delta_s = z - theta.reshape((10,1))\n",
      "        phen_inds[i,] = z.T\n",
      "        fit_inds[i] = np.exp(-np.dot(delta_s.T, np.linalg.solve(omega, delta_s)))\n",
      "        \n",
      "    parents = np.random.choice(5000, 10000, p=fit_inds/np.sum(fit_inds), replace=True)\n",
      "    \n",
      "    p_star = np.cov(phen_inds[parents].T)\n",
      "    p = np.cov(phen_inds.T)\n",
      "    means = np.mean(phen_inds[parents].T, axis=1) - np.mean(phen_inds.T, axis=1)\n",
      "    means = means.reshape((10,1))\n",
      "    ss = np.dot(means, means.T)\n",
      "    \n",
      "    p_inv = np.linalg.inv(p)\n",
      "    gamma = np.dot(p_inv, np.dot(p_star - p + ss, p_inv))\n",
      "    \n",
      "    return gamma"
     ],
     "language": "python",
     "metadata": {},
     "outputs": [],
     "prompt_number": 57
    },
    {
     "cell_type": "code",
     "collapsed": false,
     "input": [
      "%pylab inline\n",
      "\n",
      "import numpy as np\n",
      "import pandas as pd"
     ],
     "language": "python",
     "metadata": {},
     "outputs": [
      {
       "output_type": "stream",
       "stream": "stdout",
       "text": [
        "Populating the interactive namespace from numpy and matplotlib\n"
       ]
      }
     ],
     "prompt_number": 4
    },
    {
     "cell_type": "code",
     "collapsed": false,
     "input": [
      "inds = read_pop('../../c-gsl/output/pop.1.pop', 5000)\n",
      "gamma = calc_gamma(inds, 1*np.eye(10), np.zeros(10).T, 0.8)\n"
     ],
     "language": "python",
     "metadata": {},
     "outputs": [],
     "prompt_number": 78
    },
    {
     "cell_type": "code",
     "collapsed": false,
     "input": [
      "np.trace(gamma)/10"
     ],
     "language": "python",
     "metadata": {},
     "outputs": [
      {
       "metadata": {},
       "output_type": "pyout",
       "prompt_number": 64,
       "text": [
        "-0.024946596032199963"
       ]
      }
     ],
     "prompt_number": 64
    },
    {
     "cell_type": "code",
     "collapsed": false,
     "input": [
      "inds = read_pop('../../c-gsl/output/pop.100.pop', 5000)\n",
      "gamma = calc_gamma(inds, 100*np.eye(10), np.zeros(10).T, 0.8)"
     ],
     "language": "python",
     "metadata": {},
     "outputs": [],
     "prompt_number": 84
    },
    {
     "cell_type": "code",
     "collapsed": false,
     "input": [
      "np.trace(gamma)/10"
     ],
     "language": "python",
     "metadata": {},
     "outputs": [
      {
       "metadata": {},
       "output_type": "pyout",
       "prompt_number": 66,
       "text": [
        "-0.71410509675504197"
       ]
      }
     ],
     "prompt_number": 66
    },
    {
     "cell_type": "code",
     "collapsed": false,
     "input": [
      "inds = read_pop('../../c-gsl/output/pop.pop', 5000)\n",
      "gamma = calc_gamma(inds, 10*np.eye(10), np.zeros(10).T, 0.8)"
     ],
     "language": "python",
     "metadata": {},
     "outputs": [],
     "prompt_number": 74
    },
    {
     "cell_type": "code",
     "collapsed": false,
     "input": [
      "np.trace(gamma)/10"
     ],
     "language": "python",
     "metadata": {},
     "outputs": [
      {
       "metadata": {},
       "output_type": "pyout",
       "prompt_number": 75,
       "text": [
        "-0.16879495791984758"
       ]
      }
     ],
     "prompt_number": 75
    },
    {
     "cell_type": "code",
     "collapsed": false,
     "input": [
      "inds = read_pop('../../c-gsl/output/pop.1.pop', 5000)\n",
      "gamma = calc_gamma(inds, np.eye(10), np.zeros(10).T, 0.8)"
     ],
     "language": "python",
     "metadata": {},
     "outputs": [],
     "prompt_number": 76
    },
    {
     "cell_type": "code",
     "collapsed": false,
     "input": [
      "np.trace(gamma)/10"
     ],
     "language": "python",
     "metadata": {},
     "outputs": [
      {
       "metadata": {},
       "output_type": "pyout",
       "prompt_number": 77,
       "text": [
        "-0.78095464310829565"
       ]
      }
     ],
     "prompt_number": 77
    },
    {
     "cell_type": "code",
     "collapsed": false,
     "input": [
      "vfits = np.array([np.var(calc_fitness(inds, i*np.eye(10), np.zeros(10).T, 0.8)) for i in range(1,100)])"
     ],
     "language": "python",
     "metadata": {},
     "outputs": [],
     "prompt_number": 71
    },
    {
     "cell_type": "code",
     "collapsed": false,
     "input": [
      "plot(vfits)\n",
      "plt.vlines(10, 0, 0.03)"
     ],
     "language": "python",
     "metadata": {},
     "outputs": [
      {
       "metadata": {},
       "output_type": "pyout",
       "prompt_number": 72,
       "text": [
        "<matplotlib.collections.LineCollection at 0x1e3dd190>"
       ]
      },
      {
       "metadata": {},
       "output_type": "display_data",
       "png": "[encoded data removed]",
       "text": [
        "<matplotlib.figure.Figure at 0x1e3dd1d0>"
       ]
      }
     ],
     "prompt_number": 72
    },
    {
     "cell_type": "code",
     "collapsed": false,
     "input": [
      "vfits = []\n",
      "\n",
      "for i in range(10):\n",
      "    vfits +=  [[calc_fitness(inds, j*np.eye(10), np.zeros(10).T, 0.8) for j in range(1,100)]] "
     ],
     "language": "python",
     "metadata": {},
     "outputs": [],
     "prompt_number": 41
    },
    {
     "cell_type": "code",
     "collapsed": false,
     "input": [
      "utils.calc_fitness(inds, 1*np.eye(10), np.zeros(10).T, 0.8).shape"
     ],
     "language": "python",
     "metadata": {},
     "outputs": [
      {
       "metadata": {},
       "output_type": "pyout",
       "prompt_number": 42,
       "text": [
        "(5000,)"
       ]
      }
     ],
     "prompt_number": 42
    },
    {
     "cell_type": "code",
     "collapsed": false,
     "input": [
      "fs = np.random.choice(5000, 5000, p=vfits[0][0]/np.sum(vfits[0][0]), replace=True)"
     ],
     "language": "python",
     "metadata": {},
     "outputs": [],
     "prompt_number": 48
    },
    {
     "cell_type": "code",
     "collapsed": false,
     "input": [
      "parents = []\n",
      "for i in range(len(vfits)):\n",
      "    parents += [map(lambda x: set(np.random.choice(5000, 10000, p=x/np.sum(x), replace=True)), vfits[i])]"
     ],
     "language": "python",
     "metadata": {},
     "outputs": [],
     "prompt_number": 86
    },
    {
     "cell_type": "code",
     "collapsed": false,
     "input": [
      "for ps in parents:\n",
      "    plot([len(p) for p in ps])\n",
      "plt.vlines(10, 0, 5000)"
     ],
     "language": "python",
     "metadata": {},
     "outputs": [
      {
       "metadata": {},
       "output_type": "pyout",
       "prompt_number": 88,
       "text": [
        "<matplotlib.collections.LineCollection at 0xd900c50>"
       ]
      },
      {
       "metadata": {},
       "output_type": "display_data",
       "png": "[encoded data removed]",
       "text": [
        "<matplotlib.figure.Figure at 0xd900d50>"
       ]
      }
     ],
     "prompt_number": 88
    },
    {
     "cell_type": "code",
     "collapsed": false,
     "input": [
      "map(len, [p for p in parents])"
     ],
     "language": "python",
     "metadata": {},
     "outputs": [
      {
       "metadata": {},
       "output_type": "pyout",
       "prompt_number": 94,
       "text": [
        "[99, 99, 99, 99, 99, 99, 99, 99, 99, 99]"
       ]
      }
     ],
     "prompt_number": 94
    },
    {
     "cell_type": "code",
     "collapsed": false,
     "input": [
      "len(set(np.random.choice(10000, 5000, replace=True)))"
     ],
     "language": "python",
     "metadata": {},
     "outputs": [
      {
       "metadata": {},
       "output_type": "pyout",
       "prompt_number": 84,
       "text": [
        "3984"
       ]
      }
     ],
     "prompt_number": 84
    },
    {
     "cell_type": "code",
     "collapsed": false,
     "input": [
      "ps = np.array(map(lambda p: map(len, p), parents))"
     ],
     "language": "python",
     "metadata": {},
     "outputs": [],
     "prompt_number": 104
    },
    {
     "cell_type": "code",
     "collapsed": false,
     "input": [
      "df = pd.DataFrame(ps)"
     ],
     "language": "python",
     "metadata": {},
     "outputs": [],
     "prompt_number": 108
    },
    {
     "cell_type": "code",
     "collapsed": false,
     "input": [
      "vfits = []\n",
      "\n",
      "for i in range(10):\n",
      "    vfits +=  [[np.var(calc_fitness(inds, j*np.eye(10), np.zeros(10).T, 0.8)) for j in range(1,100)]] "
     ],
     "language": "python",
     "metadata": {},
     "outputs": [],
     "prompt_number": 86
    },
    {
     "cell_type": "code",
     "collapsed": false,
     "input": [
      "plot(vfits[0])"
     ],
     "language": "python",
     "metadata": {},
     "outputs": [
      {
       "metadata": {},
       "output_type": "pyout",
       "prompt_number": 87,
       "text": [
        "[<matplotlib.lines.Line2D at 0x18092490>]"
       ]
      },
      {
       "metadata": {},
       "output_type": "display_data",
       "png": "[encoded data removed]",
       "text": [
        "<matplotlib.figure.Figure at 0x1e1218d0>"
       ]
      }
     ],
     "prompt_number": 87
    },
    {
     "cell_type": "code",
     "collapsed": false,
     "input": [
      "v = pd.DataFrame(vfits)"
     ],
     "language": "python",
     "metadata": {},
     "outputs": [],
     "prompt_number": 88
    },
    {
     "cell_type": "code",
     "collapsed": false,
     "input": [
      "v.to_csv('diff_selection_var_100.csv')"
     ],
     "language": "python",
     "metadata": {},
     "outputs": [],
     "prompt_number": 89
    },
    {
     "cell_type": "code",
     "collapsed": false,
     "input": [
      "ls"
     ],
     "language": "python",
     "metadata": {},
     "outputs": [
      {
       "output_type": "stream",
       "stream": "stdout",
       "text": [
        "Different selection regimes.ipynb  diff_selection.csv  diff_selection_var_100.csv  diff_selection_var_1.csv  diff_selection_var.csv\r\n"
       ]
      }
     ],
     "prompt_number": 90
    },
    {
     "cell_type": "code",
     "collapsed": false,
     "input": [],
     "language": "python",
     "metadata": {},
     "outputs": []
    }
   ],
   "metadata": {}
  }
 ]
}