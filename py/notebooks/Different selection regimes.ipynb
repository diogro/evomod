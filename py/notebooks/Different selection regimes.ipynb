{
 "metadata": {
  "name": "",
  "signature": "sha256:fa2029797c86082ed84b936d21dbb8f786a6b851fd3fda958e254061a4bdfe9d"
 },
 "nbformat": 3,
 "nbformat_minor": 0,
 "worksheets": [
  {
   "cells": [
    {
     "cell_type": "code",
     "collapsed": false,
     "input": [
      "%loadpy ../utils.py"
     ],
     "language": "python",
     "metadata": {},
     "outputs": [],
     "prompt_number": 1
    },
    {
     "cell_type": "code",
     "collapsed": false,
     "input": [
      "import pandas as pd\n",
      "import numpy as np\n",
      "\n",
      "def read_pop(filename, nind, gen_size=1000, phen_size=10):\n",
      "    ind = []\n",
      "    raw = pd.read_csv(filename, header=None)\n",
      "\n",
      "    for i in range(nind):\n",
      "        ind_line = i*(gen_size + phen_size*gen_size)\n",
      "        y = np.array(raw[ind_line:  ind_line + gen_size])\n",
      "        b = np.array(raw[ind_line + gen_size:  ind_line + gen_size +phen_size*gen_size]).reshape((phen_size,gen_size))\n",
      "        ind += [(y, b)]\n",
      "\n",
      "    return ind\n",
      "\n",
      "def calc_fitness(inds, omega, theta, amb):\n",
      "\n",
      "    fit_inds = np.zeros(len(inds))\n",
      "\n",
      "    for i, ind in enumerate(inds):\n",
      "        z = np.dot(ind[1], ind[0]) + np.random.normal(0, amb, ind[1].shape[0]).reshape((10,1))\n",
      "        delta_s = z - theta.reshape((10,1))\n",
      "        fit_inds[i] = np.exp(-np.dot(delta_s.T, np.linalg.solve(omega, delta_s)))\n",
      "\n",
      "    return fit_inds\n",
      "\n",
      "def calc_gamma(inds, omega, theta, amb):\n",
      "    phen_inds = np.zeros((len(inds), 10))\n",
      "    fit_inds = np.zeros(len(inds))\n",
      "\n",
      "    for i, ind in enumerate(inds):\n",
      "        z = np.dot(ind[1], ind[0]) + np.random.normal(0, amb, ind[1].shape[0]).reshape((10,1))\n",
      "        delta_s = z - theta.reshape((10,1))\n",
      "        phen_inds[i,] = z.T\n",
      "        fit_inds[i] = np.exp(-np.dot(delta_s.T, np.linalg.solve(omega, delta_s)))\n",
      "        \n",
      "    parents = np.random.choice(5000, 10000, p=fit_inds/np.sum(fit_inds), replace=True)\n",
      "    \n",
      "    p_star = np.cov(phen_inds[parents].T)\n",
      "    p = np.cov(phen_inds.T)\n",
      "    means = np.mean(phen_inds[parents].T, axis=1) - np.mean(phen_inds.T, axis=1)\n",
      "    means = means.reshape((10,1))\n",
      "    ss = np.dot(means, means.T)\n",
      "    \n",
      "    p_inv = np.linalg.inv(p)\n",
      "    gamma = np.dot(p_inv, np.dot(p_star - p + ss, p_inv))\n",
      "    \n",
      "    return gamma"
     ],
     "language": "python",
     "metadata": {},
     "outputs": [],
     "prompt_number": 57
    },
    {
     "cell_type": "code",
     "collapsed": false,
     "input": [
      "%pylab inline\n",
      "\n",
      "import numpy as np\n",
      "import pandas as pd"
     ],
     "language": "python",
     "metadata": {},
     "outputs": [
      {
       "output_type": "stream",
       "stream": "stdout",
       "text": [
        "Populating the interactive namespace from numpy and matplotlib\n"
       ]
      }
     ],
     "prompt_number": 4
    },
    {
     "cell_type": "heading",
     "level": 1,
     "metadata": {},
     "source": [
      "100 vari\u00e2ncia seletiva"
     ]
    },
    {
     "cell_type": "code",
     "collapsed": false,
     "input": [
      "inds_100 = read_pop('../../c-gsl/output/pop.100.pop', 5000)\n",
      "gamma_100 = calc_gamma(inds, 100*np.eye(10), np.zeros(10).T, 0.8)"
     ],
     "language": "python",
     "metadata": {},
     "outputs": [],
     "prompt_number": 97
    },
    {
     "cell_type": "code",
     "collapsed": false,
     "input": [
      "np.trace(gamma_100)/10"
     ],
     "language": "python",
     "metadata": {},
     "outputs": [
      {
       "metadata": {},
       "output_type": "pyout",
       "prompt_number": 98,
       "text": [
        "-0.0072675273117424844"
       ]
      }
     ],
     "prompt_number": 98
    },
    {
     "cell_type": "heading",
     "level": 1,
     "metadata": {},
     "source": [
      "10 vari\u00e2ncia seletiva"
     ]
    },
    {
     "cell_type": "code",
     "collapsed": false,
     "input": [
      "inds_10 = read_pop('../../c-gsl/output/pop.pop', 5000)\n",
      "gamma_10 = calc_gamma(inds, 10*np.eye(10), np.zeros(10).T, 0.8)"
     ],
     "language": "python",
     "metadata": {},
     "outputs": [],
     "prompt_number": 99
    },
    {
     "cell_type": "code",
     "collapsed": false,
     "input": [
      "np.trace(gamma_10)/10"
     ],
     "language": "python",
     "metadata": {},
     "outputs": [
      {
       "metadata": {},
       "output_type": "pyout",
       "prompt_number": 100,
       "text": [
        "-0.17593907339946491"
       ]
      }
     ],
     "prompt_number": 100
    },
    {
     "cell_type": "heading",
     "level": 1,
     "metadata": {},
     "source": [
      "1 vari\u00e2ncia seletiva"
     ]
    },
    {
     "cell_type": "code",
     "collapsed": false,
     "input": [
      "inds_1 = read_pop('../../c-gsl/output/pop.1.pop', 5000)\n",
      "gamma_1 = calc_gamma(inds, np.eye(10), np.zeros(10).T, 0.8)"
     ],
     "language": "python",
     "metadata": {},
     "outputs": [],
     "prompt_number": 101
    },
    {
     "cell_type": "code",
     "collapsed": false,
     "input": [
      "np.trace(gamma_1)/10"
     ],
     "language": "python",
     "metadata": {},
     "outputs": [
      {
       "metadata": {},
       "output_type": "pyout",
       "prompt_number": 102,
       "text": [
        "-0.80656970787659676"
       ]
      }
     ],
     "prompt_number": 102
    },
    {
     "cell_type": "code",
     "collapsed": false,
     "input": [
      "vfits_1 = []\n",
      "\n",
      "for i in range(10):\n",
      "    vfits_1 +=  [[calc_fitness(inds_1, j*np.eye(10), np.zeros(10).T, 0.8) for j in range(1,100)]] "
     ],
     "language": "python",
     "metadata": {},
     "outputs": [],
     "prompt_number": 113
    },
    {
     "cell_type": "code",
     "collapsed": false,
     "input": [
      "parents = []\n",
      "for i in range(len(vfits_100)):\n",
      "    parents += [map(lambda x: set(np.random.choice(5000, 10000, p=x/np.sum(x), replace=True)), vfits_1[i])]"
     ],
     "language": "python",
     "metadata": {},
     "outputs": [],
     "prompt_number": 114
    },
    {
     "cell_type": "code",
     "collapsed": false,
     "input": [
      "for ps in parents:\n",
      "    plot([len(p) for p in ps])\n",
      "plt.vlines(10, 0, 5000)"
     ],
     "language": "python",
     "metadata": {},
     "outputs": [
      {
       "metadata": {},
       "output_type": "pyout",
       "prompt_number": 108,
       "text": [
        "<matplotlib.collections.LineCollection at 0x1e357f90>"
       ]
      },
      {
       "metadata": {},
       "output_type": "display_data",
       "png": "[encoded data removed]",
       "text": [
        "<matplotlib.figure.Figure at 0x1e357b90>"
       ]
      }
     ],
     "prompt_number": 108
    },
    {
     "cell_type": "code",
     "collapsed": false,
     "input": [
      "ps = np.array(map(lambda p: map(len, p), parents))"
     ],
     "language": "python",
     "metadata": {},
     "outputs": [],
     "prompt_number": 109
    },
    {
     "cell_type": "code",
     "collapsed": false,
     "input": [
      "df = pd.DataFrame(ps)"
     ],
     "language": "python",
     "metadata": {},
     "outputs": [],
     "prompt_number": 110
    },
    {
     "cell_type": "code",
     "collapsed": false,
     "input": [
      "vfits = []\n",
      "\n",
      "for i in range(10):\n",
      "    vfits +=  [[np.var(calc_fitness(inds, j*np.eye(10), np.zeros(10).T, 0.8)) for j in range(1,100)]] "
     ],
     "language": "python",
     "metadata": {},
     "outputs": [],
     "prompt_number": 86
    },
    {
     "cell_type": "code",
     "collapsed": false,
     "input": [
      "plot(vfits[0])"
     ],
     "language": "python",
     "metadata": {},
     "outputs": [
      {
       "metadata": {},
       "output_type": "pyout",
       "prompt_number": 87,
       "text": [
        "[<matplotlib.lines.Line2D at 0x18092490>]"
       ]
      },
      {
       "metadata": {},
       "output_type": "display_data",
       "png": "[encoded data removed]",
       "text": [
        "<matplotlib.figure.Figure at 0x1e1218d0>"
       ]
      }
     ],
     "prompt_number": 87
    },
    {
     "cell_type": "code",
     "collapsed": false,
     "input": [
      "v = pd.DataFrame(vfits)"
     ],
     "language": "python",
     "metadata": {},
     "outputs": [],
     "prompt_number": 88
    },
    {
     "cell_type": "code",
     "collapsed": false,
     "input": [
      "v.to_csv('diff_selection_var_100.csv')"
     ],
     "language": "python",
     "metadata": {},
     "outputs": [],
     "prompt_number": 89
    },
    {
     "cell_type": "code",
     "collapsed": false,
     "input": [
      "ls"
     ],
     "language": "python",
     "metadata": {},
     "outputs": [
      {
       "output_type": "stream",
       "stream": "stdout",
       "text": [
        "Different selection regimes.ipynb  diff_selection.csv  diff_selection_var_100.csv  diff_selection_var_1.csv  diff_selection_var.csv\r\n"
       ]
      }
     ],
     "prompt_number": 90
    },
    {
     "cell_type": "code",
     "collapsed": false,
     "input": [
      "df.to_csv('diff_selection_100.csv')"
     ],
     "language": "python",
     "metadata": {},
     "outputs": [],
     "prompt_number": 111
    },
    {
     "cell_type": "code",
     "collapsed": false,
     "input": [],
     "language": "python",
     "metadata": {},
     "outputs": []
    }
   ],
   "metadata": {}
  }
 ]
}