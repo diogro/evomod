{
 "metadata": {
  "name": "",
  "signature": "sha256:daece8da2b227dc41f9b8358fe176c98467893acafc1a44030e816a1a36f2ca4"
 },
 "nbformat": 3,
 "nbformat_minor": 0,
 "worksheets": [
  {
   "cells": [
    {
     "cell_type": "code",
     "collapsed": false,
     "input": [
      "%loadpy ../utils.py"
     ],
     "language": "python",
     "metadata": {},
     "outputs": [],
     "prompt_number": 4
    },
    {
     "cell_type": "code",
     "collapsed": false,
     "input": [
      "import pandas as pd\n",
      "import numpy as np\n",
      "\n",
      "def read_pop(filename, nind, gen_size=1000, phen_size=10):\n",
      "    ind = []\n",
      "    raw = pd.read_csv(filename, header=None)\n",
      "\n",
      "    for i in range(nind):\n",
      "        ind_line = i*(gen_size + phen_size*gen_size)\n",
      "        y = np.array(raw[ind_line:  ind_line + gen_size])\n",
      "        b = np.array(raw[ind_line + gen_size:  ind_line + gen_size +phen_size*gen_size]).reshape((phen_size,gen_size))\n",
      "        ind += [(y, b)]\n",
      "\n",
      "    return ind\n",
      "\n",
      "def calc_fitness(inds, omega, theta, amb):\n",
      "\n",
      "    fit_inds = np.zeros(len(inds))\n",
      "\n",
      "    for i, ind in enumerate(inds):\n",
      "        z = np.dot(ind[1], ind[0]) + np.random.normal(0, amb, ind[1].shape[0]).reshape((10,1))\n",
      "        delta_s = z - theta.reshape((10,1))\n",
      "        fit_inds[i] = np.exp(-np.dot(delta_s.T, np.linalg.solve(omega, delta_s)))\n",
      "\n",
      "    return fit_inds\n",
      "\n"
     ],
     "language": "python",
     "metadata": {},
     "outputs": [
      {
       "output_type": "stream",
       "stream": "stderr",
       "text": [
        "/home/walrus/.virtualenvs/py/local/lib/python2.7/site-packages/pytz/__init__.py:35: UserWarning: Module multiprocessing was already imported from /usr/lib/python2.7/multiprocessing/__init__.pyc, but /home/walrus/.virtualenvs/py/lib/python2.7/site-packages is being added to sys.path\n",
        "  from pkg_resources import resource_stream\n"
       ]
      }
     ],
     "prompt_number": 5
    },
    {
     "cell_type": "code",
     "collapsed": false,
     "input": [
      "%pylab inline\n",
      "\n",
      "import numpy as np\n",
      "import pandas as pd"
     ],
     "language": "python",
     "metadata": {},
     "outputs": [
      {
       "output_type": "stream",
       "stream": "stdout",
       "text": [
        "Populating the interactive namespace from numpy and matplotlib\n"
       ]
      }
     ],
     "prompt_number": 6
    },
    {
     "cell_type": "code",
     "collapsed": false,
     "input": [
      "inds = read_pop('../../c-gsl/output/pop.pop', 5000)\n",
      "fits = calc_fitness(inds, 10*np.eye(10), np.zeros(10).T, 0.8)"
     ],
     "language": "python",
     "metadata": {},
     "outputs": [],
     "prompt_number": 9
    },
    {
     "cell_type": "code",
     "collapsed": false,
     "input": [
      "vfits = np.array([np.var(calc_fitness(inds, i*np.eye(10), np.zeros(10).T, 0.8)) for i in range(1,100)])"
     ],
     "language": "python",
     "metadata": {},
     "outputs": [],
     "prompt_number": 11
    },
    {
     "cell_type": "code",
     "collapsed": false,
     "input": [
      "plot(vfits)\n",
      "plt.vlines(10, 0, 0.03)"
     ],
     "language": "python",
     "metadata": {},
     "outputs": [
      {
       "metadata": {},
       "output_type": "pyout",
       "prompt_number": 29,
       "text": [
        "<matplotlib.collections.LineCollection at 0x16857050>"
       ]
      },
      {
       "metadata": {},
       "output_type": "display_data",
       "png": "[encoded data removed]",
       "text": [
        "<matplotlib.figure.Figure at 0x16857190>"
       ]
      }
     ],
     "prompt_number": 29
    },
    {
     "cell_type": "code",
     "collapsed": false,
     "input": [
      "vfits = []\n",
      "\n",
      "for i in range(10):\n",
      "    vfits +=  [[calc_fitness(inds, j*np.eye(10), np.zeros(10).T, 0.8) for j in range(1,100)]] "
     ],
     "language": "python",
     "metadata": {},
     "outputs": [],
     "prompt_number": 41
    },
    {
     "cell_type": "code",
     "collapsed": false,
     "input": [
      "utils.calc_fitness(inds, 1*np.eye(10), np.zeros(10).T, 0.8).shape"
     ],
     "language": "python",
     "metadata": {},
     "outputs": [
      {
       "metadata": {},
       "output_type": "pyout",
       "prompt_number": 42,
       "text": [
        "(5000,)"
       ]
      }
     ],
     "prompt_number": 42
    },
    {
     "cell_type": "code",
     "collapsed": false,
     "input": [
      "fs = np.random.choice(5000, 5000, p=vfits[0][0]/np.sum(vfits[0][0]), replace=True)"
     ],
     "language": "python",
     "metadata": {},
     "outputs": [],
     "prompt_number": 48
    },
    {
     "cell_type": "code",
     "collapsed": false,
     "input": [
      "parents = []\n",
      "for i in range(len(vfits)):\n",
      "    parents += [map(lambda x: set(np.random.choice(5000, 10000, p=x/np.sum(x), replace=True)), vfits[i])]"
     ],
     "language": "python",
     "metadata": {},
     "outputs": [],
     "prompt_number": 86
    },
    {
     "cell_type": "code",
     "collapsed": false,
     "input": [
      "for ps in parents:\n",
      "    plot([len(p) for p in ps])\n",
      "plt.vlines(10, 0, 5000)"
     ],
     "language": "python",
     "metadata": {},
     "outputs": [
      {
       "metadata": {},
       "output_type": "pyout",
       "prompt_number": 88,
       "text": [
        "<matplotlib.collections.LineCollection at 0xd900c50>"
       ]
      },
      {
       "metadata": {},
       "output_type": "display_data",
       "png": "[encoded data removed]",
       "text": [
        "<matplotlib.figure.Figure at 0xd900d50>"
       ]
      }
     ],
     "prompt_number": 88
    },
    {
     "cell_type": "code",
     "collapsed": false,
     "input": [
      "map(len, [p for p in parents])"
     ],
     "language": "python",
     "metadata": {},
     "outputs": [
      {
       "metadata": {},
       "output_type": "pyout",
       "prompt_number": 94,
       "text": [
        "[99, 99, 99, 99, 99, 99, 99, 99, 99, 99]"
       ]
      }
     ],
     "prompt_number": 94
    },
    {
     "cell_type": "code",
     "collapsed": false,
     "input": [
      "len(set(np.random.choice(10000, 5000, replace=True)))"
     ],
     "language": "python",
     "metadata": {},
     "outputs": [
      {
       "metadata": {},
       "output_type": "pyout",
       "prompt_number": 84,
       "text": [
        "3984"
       ]
      }
     ],
     "prompt_number": 84
    },
    {
     "cell_type": "code",
     "collapsed": false,
     "input": [
      "ps = np.array(map(lambda p: map(len, p), parents))"
     ],
     "language": "python",
     "metadata": {},
     "outputs": [],
     "prompt_number": 104
    },
    {
     "cell_type": "code",
     "collapsed": false,
     "input": [
      "df = pd.DataFrame(ps)"
     ],
     "language": "python",
     "metadata": {},
     "outputs": [],
     "prompt_number": 108
    },
    {
     "cell_type": "code",
     "collapsed": false,
     "input": [
      "vfits = []\n",
      "\n",
      "for i in range(10):\n",
      "    vfits +=  [[np.var(calc_fitness(inds, j*np.eye(10), np.zeros(10).T, 0.8)) for j in range(1,100)]] "
     ],
     "language": "python",
     "metadata": {},
     "outputs": [],
     "prompt_number": 14
    },
    {
     "cell_type": "code",
     "collapsed": false,
     "input": [
      "plot(vfits[0])"
     ],
     "language": "python",
     "metadata": {},
     "outputs": [
      {
       "metadata": {},
       "output_type": "pyout",
       "prompt_number": 15,
       "text": [
        "[<matplotlib.lines.Line2D at 0x1dcf6810>]"
       ]
      },
      {
       "metadata": {},
       "output_type": "display_data",
       "png": "[encoded data removed]",
       "text": [
        "<matplotlib.figure.Figure at 0x36c3f90>"
       ]
      }
     ],
     "prompt_number": 15
    },
    {
     "cell_type": "code",
     "collapsed": false,
     "input": [
      "v = pd.DataFrame(vfits)"
     ],
     "language": "python",
     "metadata": {},
     "outputs": [],
     "prompt_number": 19
    },
    {
     "cell_type": "code",
     "collapsed": false,
     "input": [
      "v.to_csv('diff_selection_var.csv')"
     ],
     "language": "python",
     "metadata": {},
     "outputs": [],
     "prompt_number": 26
    },
    {
     "cell_type": "code",
     "collapsed": false,
     "input": [],
     "language": "python",
     "metadata": {},
     "outputs": []
    }
   ],
   "metadata": {}
  }
 ]
}